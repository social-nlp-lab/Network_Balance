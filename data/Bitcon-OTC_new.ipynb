{
 "cells": [
  {
   "cell_type": "code",
   "execution_count": 3,
   "metadata": {},
   "outputs": [
    {
     "name": "stdout",
     "output_type": "stream",
     "text": [
      "Defaulting to user installation because normal site-packages is not writeable\n",
      "Collecting networkx\n",
      "  Downloading networkx-3.1-py3-none-any.whl (2.1 MB)\n",
      "\u001b[2K     \u001b[90m━━━━━━━━━━━━━━━━━━━━━━━━━━━━━━━━━━━━━━━━\u001b[0m \u001b[32m2.1/2.1 MB\u001b[0m \u001b[31m20.6 MB/s\u001b[0m eta \u001b[36m0:00:00\u001b[0ma \u001b[36m0:00:01\u001b[0m\n",
      "\u001b[?25hInstalling collected packages: networkx\n",
      "Successfully installed networkx-3.1\n",
      "\n",
      "\u001b[1m[\u001b[0m\u001b[34;49mnotice\u001b[0m\u001b[1;39;49m]\u001b[0m\u001b[39;49m A new release of pip is available: \u001b[0m\u001b[31;49m23.1.2\u001b[0m\u001b[39;49m -> \u001b[0m\u001b[32;49m23.2.1\u001b[0m\n",
      "\u001b[1m[\u001b[0m\u001b[34;49mnotice\u001b[0m\u001b[1;39;49m]\u001b[0m\u001b[39;49m To update, run: \u001b[0m\u001b[32;49m/Library/Developer/CommandLineTools/usr/bin/python3 -m pip install --upgrade pip\u001b[0m\n"
     ]
    }
   ],
   "source": [
    "!pip3 install networkx"
   ]
  },
  {
   "cell_type": "code",
   "execution_count": 7,
   "metadata": {},
   "outputs": [
    {
     "name": "stdout",
     "output_type": "stream",
     "text": [
      "Defaulting to user installation because normal site-packages is not writeable\n",
      "Collecting matplotlib\n",
      "  Downloading matplotlib-3.8.0-cp39-cp39-macosx_11_0_arm64.whl (7.5 MB)\n",
      "\u001b[2K     \u001b[90m━━━━━━━━━━━━━━━━━━━━━━━━━━━━━━━━━━━━━━━━\u001b[0m \u001b[32m7.5/7.5 MB\u001b[0m \u001b[31m31.3 MB/s\u001b[0m eta \u001b[36m0:00:00\u001b[0m00:01\u001b[0m00:01\u001b[0m\n",
      "\u001b[?25hCollecting contourpy>=1.0.1 (from matplotlib)\n",
      "  Downloading contourpy-1.1.1-cp39-cp39-macosx_11_0_arm64.whl (232 kB)\n",
      "\u001b[2K     \u001b[90m━━━━━━━━━━━━━━━━━━━━━━━━━━━━━━━━━━━━━━\u001b[0m \u001b[32m232.6/232.6 kB\u001b[0m \u001b[31m16.8 MB/s\u001b[0m eta \u001b[36m0:00:00\u001b[0m\n",
      "\u001b[?25hCollecting cycler>=0.10 (from matplotlib)\n",
      "  Downloading cycler-0.11.0-py3-none-any.whl (6.4 kB)\n",
      "Collecting fonttools>=4.22.0 (from matplotlib)\n",
      "  Downloading fonttools-4.42.1-cp39-cp39-macosx_10_9_universal2.whl (2.7 MB)\n",
      "\u001b[2K     \u001b[90m━━━━━━━━━━━━━━━━━━━━━━━━━━━━━━━━━━━━━━━━\u001b[0m \u001b[32m2.7/2.7 MB\u001b[0m \u001b[31m35.4 MB/s\u001b[0m eta \u001b[36m0:00:00\u001b[0m00:01\u001b[0m00:01\u001b[0m\n",
      "\u001b[?25hCollecting kiwisolver>=1.0.1 (from matplotlib)\n",
      "  Downloading kiwisolver-1.4.5-cp39-cp39-macosx_11_0_arm64.whl (66 kB)\n",
      "\u001b[2K     \u001b[90m━━━━━━━━━━━━━━━━━━━━━━━━━━━━━━━━━━━━━━━━\u001b[0m \u001b[32m66.2/66.2 kB\u001b[0m \u001b[31m8.9 MB/s\u001b[0m eta \u001b[36m0:00:00\u001b[0m\n",
      "\u001b[?25hRequirement already satisfied: numpy<2,>=1.21 in /Users/lydinh/Library/Python/3.9/lib/python/site-packages (from matplotlib) (1.24.3)\n",
      "Requirement already satisfied: packaging>=20.0 in /Users/lydinh/Library/Python/3.9/lib/python/site-packages (from matplotlib) (23.1)\n",
      "Requirement already satisfied: pillow>=6.2.0 in /Users/lydinh/Library/Python/3.9/lib/python/site-packages (from matplotlib) (9.3.0)\n",
      "Collecting pyparsing>=2.3.1 (from matplotlib)\n",
      "  Downloading pyparsing-3.1.1-py3-none-any.whl (103 kB)\n",
      "\u001b[2K     \u001b[90m━━━━━━━━━━━━━━━━━━━━━━━━━━━━━━━━━━━━━━\u001b[0m \u001b[32m103.1/103.1 kB\u001b[0m \u001b[31m15.3 MB/s\u001b[0m eta \u001b[36m0:00:00\u001b[0m\n",
      "\u001b[?25hRequirement already satisfied: python-dateutil>=2.7 in /Users/lydinh/Library/Python/3.9/lib/python/site-packages (from matplotlib) (2.8.2)\n",
      "Collecting importlib-resources>=3.2.0 (from matplotlib)\n",
      "  Downloading importlib_resources-6.1.0-py3-none-any.whl (33 kB)\n",
      "Requirement already satisfied: zipp>=3.1.0 in /Users/lydinh/Library/Python/3.9/lib/python/site-packages (from importlib-resources>=3.2.0->matplotlib) (3.17.0)\n",
      "Requirement already satisfied: six>=1.5 in /Library/Developer/CommandLineTools/Library/Frameworks/Python3.framework/Versions/3.9/lib/python3.9/site-packages (from python-dateutil>=2.7->matplotlib) (1.15.0)\n",
      "Installing collected packages: pyparsing, kiwisolver, importlib-resources, fonttools, cycler, contourpy, matplotlib\n",
      "\u001b[33m  WARNING: The scripts fonttools, pyftmerge, pyftsubset and ttx are installed in '/Users/lydinh/Library/Python/3.9/bin' which is not on PATH.\n",
      "  Consider adding this directory to PATH or, if you prefer to suppress this warning, use --no-warn-script-location.\u001b[0m\u001b[33m\n",
      "\u001b[0mSuccessfully installed contourpy-1.1.1 cycler-0.11.0 fonttools-4.42.1 importlib-resources-6.1.0 kiwisolver-1.4.5 matplotlib-3.8.0 pyparsing-3.1.1\n",
      "\n",
      "\u001b[1m[\u001b[0m\u001b[34;49mnotice\u001b[0m\u001b[1;39;49m]\u001b[0m\u001b[39;49m A new release of pip is available: \u001b[0m\u001b[31;49m23.1.2\u001b[0m\u001b[39;49m -> \u001b[0m\u001b[32;49m23.2.1\u001b[0m\n",
      "\u001b[1m[\u001b[0m\u001b[34;49mnotice\u001b[0m\u001b[1;39;49m]\u001b[0m\u001b[39;49m To update, run: \u001b[0m\u001b[32;49m/Library/Developer/CommandLineTools/usr/bin/python3 -m pip install --upgrade pip\u001b[0m\n"
     ]
    }
   ],
   "source": [
    "!pip3 install matplotlib"
   ]
  },
  {
   "cell_type": "code",
   "execution_count": 8,
   "metadata": {},
   "outputs": [],
   "source": [
    "import pandas as pd\n",
    "from networkx import *\n",
    "import numpy as np\n",
    "import networkx as nx\n",
    "from itertools import combinations\n",
    "import time\n",
    "import pickle, matplotlib\n"
   ]
  },
  {
   "cell_type": "code",
   "execution_count": 9,
   "metadata": {},
   "outputs": [
    {
     "data": {
      "text/plain": [
       "(35592, 3)"
      ]
     },
     "execution_count": 9,
     "metadata": {},
     "output_type": "execute_result"
    }
   ],
   "source": [
    "## import data\n",
    "# data = pd.read_csv(root)\n",
    "df = pd.read_csv(\"/Users/lydinh/Downloads/network_balance-master 2/data/Bitcoin-OTC.csv\", header = 0)\n",
    "df.shape\n",
    "# mean of weights"
   ]
  },
  {
   "cell_type": "code",
   "execution_count": 10,
   "metadata": {},
   "outputs": [],
   "source": [
    "name = df.columns[2]\n",
    "from_name = df.columns[0]\n",
    "to_name = df.columns[1]\n",
    "# df = df.replace({'Morality': {'Virtue': 1, 'Vice': -1, 'Neutral': 0}})\n",
    "# df = df.drop(df[df.Morality == 0].index)"
   ]
  },
  {
   "cell_type": "code",
   "execution_count": 11,
   "metadata": {},
   "outputs": [
    {
     "data": {
      "text/plain": [
       "(21492, 4)"
      ]
     },
     "execution_count": 11,
     "metadata": {},
     "output_type": "execute_result"
    }
   ],
   "source": [
    "# averaging without consider direction of from to (used for undirected graph)\n",
    "df['nodes'] = df[[from_name, to_name]].values.tolist()\n",
    "df['nodes'] = df['nodes'].apply(lambda x: '--'.join(sorted(map(str, x))))\n",
    "df = df[['nodes', from_name, to_name, name]].groupby(['nodes'])[name].mean().reset_index()\n",
    "df[[from_name, to_name]] = df.nodes.apply(\n",
    "   lambda x: pd.Series(str(x).split(\"--\")))\n",
    "df.shape"
   ]
  },
  {
   "cell_type": "code",
   "execution_count": 12,
   "metadata": {},
   "outputs": [
    {
     "data": {
      "text/plain": [
       "(21434, 4)"
      ]
     },
     "execution_count": 12,
     "metadata": {},
     "output_type": "execute_result"
    }
   ],
   "source": [
    "df[name] = df[name].replace(to_replace = [i for i in set(df[name]) if i>0], value =1)\n",
    "df[name] = df[name].replace(to_replace = [i for i in set(df[name]) if i<0], value =-1)\n",
    "df = df.drop(df[df[name] == 0].index)\n",
    "df.shape\n",
    "# df.loc[(df['Sign'] > 0)]\n",
    "\n",
    "\n",
    "# df = df.replace({'Morality': {'Virtue': 1, 'Vice': -1, 'Neutral': 0}})\n",
    "# df = df.drop(df[df.Morality == 0].index)\n",
    "\n",
    "# above 0 -> 1 below 0 -> -1\n",
    "# df = df.drop(df[df.Average_sentiment_score == 0].index)\n",
    "# df['Date'] = pd.to_datetime(df['Date'])\n",
    "# df = df.sort_values(by=['Date'], ascending=True)"
   ]
  },
  {
   "cell_type": "code",
   "execution_count": 13,
   "metadata": {},
   "outputs": [],
   "source": [
    "G_all=nx.from_pandas_edgelist(df,source=from_name, target=to_name, edge_attr=name, create_using=nx.Graph())"
   ]
  },
  {
   "cell_type": "code",
   "execution_count": 14,
   "metadata": {},
   "outputs": [],
   "source": [
    "c = 0\n",
    "while(1):\n",
    "    G_all.remove_nodes_from(list(nx.isolates(G_all)))\n",
    "    remove = [node for node,degree in G_all.degree() if degree == 1]\n",
    "    G_all.remove_nodes_from(remove)\n",
    "    G_all.remove_edges_from(nx.selfloop_edges(G_all, data=True))\n",
    "    if c == number_of_edges(G_all):\n",
    "        break\n",
    "    else:\n",
    "        c = number_of_edges(G_all)"
   ]
  },
  {
   "cell_type": "code",
   "execution_count": 15,
   "metadata": {},
   "outputs": [],
   "source": [
    "from itertools import combinations\n",
    "\n",
    "info = []\n",
    "for nodes in combinations(G_all.nodes, 3):\n",
    "    n_edges = G_all.subgraph(nodes).number_of_edges()\n",
    "    if n_edges == 3:\n",
    "        ratio = 1 if np.product([w[name] for n1, n2, w in G_all.subgraph(nodes).edges.data()]) == 1 else 0\n",
    "        info.append([G_all.subgraph(nodes).edges.data(), 'X', nodes, ratio])\n",
    "info = pd.DataFrame(info)\n",
    "info.to_csv('/Users/lydinh/Downloads/network_balance-master 2/data/Bitcoin-OTC_undirected.csv', index=False)"
   ]
  },
  {
   "cell_type": "code",
   "execution_count": 16,
   "metadata": {},
   "outputs": [
    {
     "data": {
      "text/plain": [
       "Counter({1: 28743, 0: 4201})"
      ]
     },
     "execution_count": 16,
     "metadata": {},
     "output_type": "execute_result"
    }
   ],
   "source": [
    "from collections import Counter\n",
    "Counter(info[3])"
   ]
  },
  {
   "cell_type": "markdown",
   "metadata": {},
   "source": [
    "## Directed Graph"
   ]
  },
  {
   "cell_type": "code",
   "execution_count": null,
   "metadata": {},
   "outputs": [],
   "source": [
    "\n",
    "df = pd.read_csv(\"../OneDrive_1_9-3-2021/Bitcoin-OTC.csv\", header = 0)\n",
    "name = df.columns[2]\n",
    "from_name = df.columns[0]\n",
    "to_name = df.columns[1]\n",
    "\n",
    "# averaging by from to (used for directed graph)\n",
    "df = df[[from_name, to_name, name]].groupby([from_name, to_name]).mean().reset_index()\n",
    "\n",
    "df[name] = df[name].replace(to_replace = [i for i in set(df[name]) if i>0], value =1)\n",
    "df[name] = df[name].replace(to_replace = [i for i in set(df[name]) if i<0], value =-1)\n",
    "df = df.drop(df[df[name] == 0].index)\n",
    "df.shape"
   ]
  },
  {
   "cell_type": "code",
   "execution_count": null,
   "metadata": {},
   "outputs": [],
   "source": [
    "from itertools import combinations\n",
    "\n",
    "## Get all triples in triads with respect to their census and edgelists (in edge_atts)\n",
    "def get_directed_triads(undirected_triad):\n",
    "    # Get all triplets of edges\n",
    "    list_tri = []\n",
    "    for candidate_edges in combinations(undirected_triad.edges.data(), 3):\n",
    "        # Get edges between unique pair of nodes\n",
    "        unique_edges = set([tuple(sorted((s,e))) for s,e,w in candidate_edges])\n",
    "        start_nodes = set([s for s,e,w in candidate_edges])\n",
    "        # Only consider triad in which the tree edges use a unique pair of nodes\n",
    "        if len(unique_edges) == 3 and len(start_nodes) !=3:\n",
    "            yield candidate_edges"
   ]
  },
  {
   "cell_type": "code",
   "execution_count": null,
   "metadata": {},
   "outputs": [],
   "source": [
    "G_all=nx.from_pandas_edgelist(df,source=from_name, target=to_name, edge_attr=name, create_using=nx.DiGraph())\n"
   ]
  },
  {
   "cell_type": "code",
   "execution_count": null,
   "metadata": {},
   "outputs": [],
   "source": [
    "c = 0\n",
    "while(1):\n",
    "    G_all.remove_nodes_from(list(nx.isolates(G_all)))\n",
    "    remove = [node for node,degree in G_all.degree() if degree == 1]\n",
    "    G_all.remove_nodes_from(remove)\n",
    "    G_all.remove_edges_from(nx.selfloop_edges(G_all, data=True))\n",
    "    if c == number_of_edges(G_all):\n",
    "        break\n",
    "    else:\n",
    "        c = number_of_edges(G_all)"
   ]
  },
  {
   "cell_type": "code",
   "execution_count": null,
   "metadata": {},
   "outputs": [],
   "source": [
    "# G_all=nx.from_pandas_edgelist(df,source=from_name, target=to_name, edge_attr=name, create_using=nx.DiGraph())\n",
    "useless_census = ['003','012', '102', '021D', '021C', '021U', '021', '111U', '111D', '201', '030C', '120C', '210']\n",
    "info = []\n",
    "for triads in all_triads(G_all):\n",
    "    if triad_type(triads) not in useless_census:\n",
    "        all_values = {1:0, 0:0, -1:0}\n",
    "        for triangle in get_directed_triads(triads):\n",
    "#             print(triangle)\n",
    "            all_values[np.product([w[name] for n1, n2, w in triangle])] += 1\n",
    "#         ratio = 0\n",
    "#         if all_values[0] == 0:\n",
    "        ratio = all_values[1]/(all_values[1]+all_values[-1])\n",
    "#         print([triads.edges.data(), triad_type(triads), set([k[0] for k in triads.edges.data()]+[k[1] for k in triads.edges.data()]), ratio])\n",
    "#         print('---------')\n",
    "        info.append([triads.edges.data(), triad_type(triads), set([k[0] for k in triads.edges.data()]+[k[1] for k in triads.edges.data()]), ratio])\n",
    "info = pd.DataFrame(info)\n",
    "info.to_csv('../info_triads/BitcoinOTC_directed.csv', index=False)"
   ]
  },
  {
   "cell_type": "code",
   "execution_count": null,
   "metadata": {},
   "outputs": [],
   "source": [
    "from collections import Counter\n",
    "Counter(info[3])"
   ]
  },
  {
   "cell_type": "markdown",
   "metadata": {},
   "source": [
    "## Others"
   ]
  },
  {
   "cell_type": "code",
   "execution_count": 84,
   "metadata": {},
   "outputs": [],
   "source": [
    "# G_all=nx.from_pandas_edgelist(df,source=from_name, target=to_name, edge_attr=name, create_using=nx.Graph())\n",
    "# all_cliques= nx.enumerate_all_cliques(G_all)\n",
    "triad_cliques=[c for c in nx.cycle_basis(G_all) if len(c)==3]\n",
    "info = []\n",
    "for t in triad_cliques:\n",
    "    tri=nx.subgraph(G_all,t)\n",
    "    ratio = 1 if np.product([w[name] for n1, n2, w in tri.edges.data()]) == 1 else 0\n",
    "    info.append([tri.edges.data(), 'X', t, ratio])\n",
    "info = pd.DataFrame(info)\n",
    "info.to_csv('info_triads/Highland Tribes_sym_undirected.csv', index=False)"
   ]
  },
  {
   "cell_type": "markdown",
   "metadata": {},
   "source": [
    "Calculating Balance"
   ]
  },
  {
   "cell_type": "code",
   "execution_count": 11,
   "metadata": {},
   "outputs": [],
   "source": [
    "## adding the edge attribute (signs) to the network\n",
    "sign = nx.get_edge_attributes(G_all,name)"
   ]
  },
  {
   "cell_type": "markdown",
   "metadata": {},
   "source": [
    "Transitive Triads"
   ]
  },
  {
   "cell_type": "code",
   "execution_count": 131,
   "metadata": {
    "scrolled": true
   },
   "outputs": [],
   "source": [
    "# # transitive triads\n",
    "# start_time = time.clock()\n",
    "# triad_class = {}\n",
    "# useless_census = ['003','012', '102', '021D', '021C', '021U', '021', '111U', '111D', '201', '030C', '120C', '210']\n",
    "# for nodes in combinations(G_all.nodes, 3):\n",
    "#     census = [k for k, v in nx.triads.triadic_census(G_all.subgraph(nodes)).items() if v][0]\n",
    "#     if census not in useless_census:\n",
    "#         morality = nx.get_edge_attributes(G_all.subgraph(nodes),'Morality')\n",
    "#         triad_class[nodes] = [census, morality]\n",
    "# print (time.clock() - start_time, \"seconds\")"
   ]
  },
  {
   "cell_type": "code",
   "execution_count": 132,
   "metadata": {},
   "outputs": [],
   "source": [
    "## creating the semi-cycles within the triad census\n",
    "# from itertools import combinations\n",
    "\n",
    "# ## Get all triples in triads with respect to their census and edgelists (in edge_atts)\n",
    "# def get_directed_triads(undirected_triad):\n",
    "#     # Get all triplets of edges\n",
    "#     for candidate_edges in combinations(undirected_triad.items(), 3):\n",
    "#         # Get edges between unique pair of nodes\n",
    "#         unique_edges = set([tuple(sorted(k)) for k,v in candidate_edges])\n",
    "#         # Only consider triad in which the tree edges use a unique pair of nodes\n",
    "#         if len(unique_edges) == 3:\n",
    "#             yield dict(candidate_edges)"
   ]
  },
  {
   "cell_type": "code",
   "execution_count": 133,
   "metadata": {},
   "outputs": [],
   "source": [
    "# all_triads = []\n",
    "# for key, value in triad_class.items():\n",
    "#     #for directed_triad in get_directed_triads(value[1]):\n",
    "#     all_directed_triads = list(get_directed_triads(value[1]))\n",
    "#     all_triads.append([all_directed_triads, value[0]])\n",
    "#     #print (all_directed_triads)"
   ]
  },
  {
   "cell_type": "code",
   "execution_count": 10,
   "metadata": {},
   "outputs": [],
   "source": [
    "import numpy as np\n",
    "## extract all the triads\n",
    "triangles = [c for c in nx.cycle_basis(G_all) if len(c)==3]\n",
    "triangle_types={}\n",
    "for triangle in triangles:\n",
    "    tri=nx.subgraph(G_all,triangle)\n",
    "    #take the product of the edge relationships. If there are an odd number of -1s, the triangle is unbalanced.\n",
    "    triangle_types[tuple(tri.nodes())]=np.product([x[2][name] for x in tri.edges(data=True)])\n",
    "# print(triangle_types)"
   ]
  },
  {
   "cell_type": "code",
   "execution_count": 11,
   "metadata": {},
   "outputs": [
    {
     "data": {
      "text/plain": [
       "Counter({1: 23, -1: 6})"
      ]
     },
     "execution_count": 11,
     "metadata": {},
     "output_type": "execute_result"
    }
   ],
   "source": [
    "## how many balanced and imbalanced triads do we have in this graph?\n",
    "from collections import Counter\n",
    "Counter(triangle_types.values())"
   ]
  },
  {
   "cell_type": "code",
   "execution_count": 12,
   "metadata": {},
   "outputs": [
    {
     "data": {
      "text/plain": [
       "0.7931034482758621"
      ]
     },
     "execution_count": 12,
     "metadata": {},
     "output_type": "execute_result"
    }
   ],
   "source": [
    "## what is the ovreall balance score of the graph? (# of balanced triads/number of all triads )\n",
    "balance_score = Counter(triangle_types.values())[1]/len(triangle_types)\n",
    "balance_score"
   ]
  },
  {
   "cell_type": "code",
   "execution_count": 137,
   "metadata": {},
   "outputs": [
    {
     "data": {
      "text/plain": [
       "0.3274974253347065"
      ]
     },
     "execution_count": 137,
     "metadata": {},
     "output_type": "execute_result"
    }
   ],
   "source": [
    "## what is the ovreall imbalance score of the graph? (# of balanced triads/number of all triads )\n",
    "imbalance_score = Counter(triangle_types.values())[-1]/len(triangle_types)\n",
    "imbalance_score"
   ]
  },
  {
   "cell_type": "markdown",
   "metadata": {},
   "source": [
    "### len(triad_class)"
   ]
  },
  {
   "cell_type": "code",
   "execution_count": null,
   "metadata": {},
   "outputs": [],
   "source": []
  },
  {
   "cell_type": "code",
   "execution_count": 75,
   "metadata": {},
   "outputs": [],
   "source": [
    "# ## getting the balance vs. imbalance triads \n",
    "# balances = []\n",
    "# unbalances = []\n",
    "# for items in all_triads:\n",
    "#     balance_list = []\n",
    "#     if items[1] == '300':\n",
    "#         for triangle in items[0]:\n",
    "#             node = []\n",
    "#             for edge in triangle:\n",
    "#                 if edge[0] not in node:\n",
    "#                     node.append(edge[0])\n",
    "#             if len(node) != 3:\n",
    "#                 balance = 1\n",
    "#                 for edge in triangle:\n",
    "#                     balance *= triangle[edge]\n",
    "#                 balance_list.append(balance)\n",
    "#     else:\n",
    "#         for item in items[0]:\n",
    "#             balance = 1\n",
    "#             for edge in item:\n",
    "#                 balance *= item[edge]\n",
    "#             balance_list.append(balance)\n",
    "#     if -1 in balance_list:\n",
    "#         unbalances.append(items)\n",
    "#     else:\n",
    "#         balances.append(items)\n"
   ]
  },
  {
   "cell_type": "code",
   "execution_count": 76,
   "metadata": {
    "scrolled": true
   },
   "outputs": [],
   "source": [
    "# ## number of balanced traids\n",
    "# dict_balance = {}\n",
    "# for i in balances:\n",
    "#     if i[1] not in dict_balance:\n",
    "#         dict_balance[i[1]] = 1\n",
    "#     else:\n",
    "#         dict_balance[i[1]] += 1\n",
    "# print(dict_balance)"
   ]
  },
  {
   "cell_type": "code",
   "execution_count": 77,
   "metadata": {
    "scrolled": true
   },
   "outputs": [],
   "source": [
    "# ## number of imbalance triads\n",
    "# dict_unbalance = {}\n",
    "# for i in unbalances:\n",
    "#     if i[1] not in dict_unbalance:\n",
    "#         dict_unbalance[i[1]] = 1\n",
    "#     else:\n",
    "#         dict_unbalance[i[1]] += 1\n",
    "# print(dict_unbalance)"
   ]
  },
  {
   "cell_type": "code",
   "execution_count": 68,
   "metadata": {},
   "outputs": [],
   "source": [
    "## TODO: get the % of balance vs. imbalance of transitive triads"
   ]
  },
  {
   "cell_type": "code",
   "execution_count": null,
   "metadata": {},
   "outputs": [],
   "source": []
  },
  {
   "cell_type": "code",
   "execution_count": null,
   "metadata": {},
   "outputs": [],
   "source": []
  }
 ],
 "metadata": {
  "kernelspec": {
   "display_name": "Python 3 (ipykernel)",
   "language": "python",
   "name": "python3"
  },
  "language_info": {
   "codemirror_mode": {
    "name": "ipython",
    "version": 3
   },
   "file_extension": ".py",
   "mimetype": "text/x-python",
   "name": "python",
   "nbconvert_exporter": "python",
   "pygments_lexer": "ipython3",
   "version": "3.9.6"
  }
 },
 "nbformat": 4,
 "nbformat_minor": 4
}
